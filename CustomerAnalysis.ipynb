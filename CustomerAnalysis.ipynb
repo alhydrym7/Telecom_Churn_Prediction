{
  "nbformat": 4,
  "nbformat_minor": 0,
  "metadata": {
    "colab": {
      "provenance": []
    },
    "kernelspec": {
      "name": "python3",
      "display_name": "Python 3"
    },
    "language_info": {
      "name": "python"
    }
  },
  "cells": [
    {
      "cell_type": "markdown",
      "source": [
        "# Loading Data"
      ],
      "metadata": {
        "id": "YvxJnMoa0SrG"
      }
    },
    {
      "cell_type": "code",
      "source": [
        "import pandas as pd\n",
        "import numpy as np\n",
        "import matplotlib.pyplot as plt\n",
        "from sklearn.preprocessing import MinMaxScaler\n"
      ],
      "metadata": {
        "id": "kWCPtcTRidrp"
      },
      "execution_count": 1,
      "outputs": []
    },
    {
      "cell_type": "code",
      "source": [
        "df = pd.read_csv(\"https://drive.google.com/u/0/uc?id=1VKwkHPC3w6xFndHWXgnPRmYlr8bflqTe&export=download\")"
      ],
      "metadata": {
        "id": "awXqQKaZizss"
      },
      "execution_count": 2,
      "outputs": []
    },
    {
      "cell_type": "code",
      "source": [
        "df.head(5)"
      ],
      "metadata": {
        "id": "lvxAEFxd6QgG",
        "outputId": "c49030e3-6c26-4d5d-f6aa-19d2a09be56a",
        "colab": {
          "base_uri": "https://localhost:8080/",
          "height": 386
        }
      },
      "execution_count": 3,
      "outputs": [
        {
          "output_type": "execute_result",
          "data": {
            "text/plain": [
              "   customerID  gender  SeniorCitizen Partner Dependents  tenure PhoneService  \\\n",
              "0  7590-VHVEG  Female              0     Yes         No       1           No   \n",
              "1  5575-GNVDE    Male              0      No         No      34          Yes   \n",
              "2  3668-QPYBK    Male              0      No         No       2          Yes   \n",
              "3  7795-CFOCW    Male              0      No         No      45           No   \n",
              "4  9237-HQITU  Female              0      No         No       2          Yes   \n",
              "\n",
              "      MultipleLines InternetService OnlineSecurity  ... DeviceProtection  \\\n",
              "0  No phone service             DSL             No  ...               No   \n",
              "1                No             DSL            Yes  ...              Yes   \n",
              "2                No             DSL            Yes  ...               No   \n",
              "3  No phone service             DSL            Yes  ...              Yes   \n",
              "4                No     Fiber optic             No  ...               No   \n",
              "\n",
              "  TechSupport StreamingTV StreamingMovies        Contract PaperlessBilling  \\\n",
              "0          No          No              No  Month-to-month              Yes   \n",
              "1          No          No              No        One year               No   \n",
              "2          No          No              No  Month-to-month              Yes   \n",
              "3         Yes          No              No        One year               No   \n",
              "4          No          No              No  Month-to-month              Yes   \n",
              "\n",
              "               PaymentMethod MonthlyCharges  TotalCharges Churn  \n",
              "0           Electronic check          29.85         29.85    No  \n",
              "1               Mailed check          56.95        1889.5    No  \n",
              "2               Mailed check          53.85        108.15   Yes  \n",
              "3  Bank transfer (automatic)          42.30       1840.75    No  \n",
              "4           Electronic check          70.70        151.65   Yes  \n",
              "\n",
              "[5 rows x 21 columns]"
            ],
            "text/html": [
              "\n",
              "\n",
              "  <div id=\"df-b5fb79f7-d1a0-478d-8a86-3497f9bf4cda\">\n",
              "    <div class=\"colab-df-container\">\n",
              "      <div>\n",
              "<style scoped>\n",
              "    .dataframe tbody tr th:only-of-type {\n",
              "        vertical-align: middle;\n",
              "    }\n",
              "\n",
              "    .dataframe tbody tr th {\n",
              "        vertical-align: top;\n",
              "    }\n",
              "\n",
              "    .dataframe thead th {\n",
              "        text-align: right;\n",
              "    }\n",
              "</style>\n",
              "<table border=\"1\" class=\"dataframe\">\n",
              "  <thead>\n",
              "    <tr style=\"text-align: right;\">\n",
              "      <th></th>\n",
              "      <th>customerID</th>\n",
              "      <th>gender</th>\n",
              "      <th>SeniorCitizen</th>\n",
              "      <th>Partner</th>\n",
              "      <th>Dependents</th>\n",
              "      <th>tenure</th>\n",
              "      <th>PhoneService</th>\n",
              "      <th>MultipleLines</th>\n",
              "      <th>InternetService</th>\n",
              "      <th>OnlineSecurity</th>\n",
              "      <th>...</th>\n",
              "      <th>DeviceProtection</th>\n",
              "      <th>TechSupport</th>\n",
              "      <th>StreamingTV</th>\n",
              "      <th>StreamingMovies</th>\n",
              "      <th>Contract</th>\n",
              "      <th>PaperlessBilling</th>\n",
              "      <th>PaymentMethod</th>\n",
              "      <th>MonthlyCharges</th>\n",
              "      <th>TotalCharges</th>\n",
              "      <th>Churn</th>\n",
              "    </tr>\n",
              "  </thead>\n",
              "  <tbody>\n",
              "    <tr>\n",
              "      <th>0</th>\n",
              "      <td>7590-VHVEG</td>\n",
              "      <td>Female</td>\n",
              "      <td>0</td>\n",
              "      <td>Yes</td>\n",
              "      <td>No</td>\n",
              "      <td>1</td>\n",
              "      <td>No</td>\n",
              "      <td>No phone service</td>\n",
              "      <td>DSL</td>\n",
              "      <td>No</td>\n",
              "      <td>...</td>\n",
              "      <td>No</td>\n",
              "      <td>No</td>\n",
              "      <td>No</td>\n",
              "      <td>No</td>\n",
              "      <td>Month-to-month</td>\n",
              "      <td>Yes</td>\n",
              "      <td>Electronic check</td>\n",
              "      <td>29.85</td>\n",
              "      <td>29.85</td>\n",
              "      <td>No</td>\n",
              "    </tr>\n",
              "    <tr>\n",
              "      <th>1</th>\n",
              "      <td>5575-GNVDE</td>\n",
              "      <td>Male</td>\n",
              "      <td>0</td>\n",
              "      <td>No</td>\n",
              "      <td>No</td>\n",
              "      <td>34</td>\n",
              "      <td>Yes</td>\n",
              "      <td>No</td>\n",
              "      <td>DSL</td>\n",
              "      <td>Yes</td>\n",
              "      <td>...</td>\n",
              "      <td>Yes</td>\n",
              "      <td>No</td>\n",
              "      <td>No</td>\n",
              "      <td>No</td>\n",
              "      <td>One year</td>\n",
              "      <td>No</td>\n",
              "      <td>Mailed check</td>\n",
              "      <td>56.95</td>\n",
              "      <td>1889.5</td>\n",
              "      <td>No</td>\n",
              "    </tr>\n",
              "    <tr>\n",
              "      <th>2</th>\n",
              "      <td>3668-QPYBK</td>\n",
              "      <td>Male</td>\n",
              "      <td>0</td>\n",
              "      <td>No</td>\n",
              "      <td>No</td>\n",
              "      <td>2</td>\n",
              "      <td>Yes</td>\n",
              "      <td>No</td>\n",
              "      <td>DSL</td>\n",
              "      <td>Yes</td>\n",
              "      <td>...</td>\n",
              "      <td>No</td>\n",
              "      <td>No</td>\n",
              "      <td>No</td>\n",
              "      <td>No</td>\n",
              "      <td>Month-to-month</td>\n",
              "      <td>Yes</td>\n",
              "      <td>Mailed check</td>\n",
              "      <td>53.85</td>\n",
              "      <td>108.15</td>\n",
              "      <td>Yes</td>\n",
              "    </tr>\n",
              "    <tr>\n",
              "      <th>3</th>\n",
              "      <td>7795-CFOCW</td>\n",
              "      <td>Male</td>\n",
              "      <td>0</td>\n",
              "      <td>No</td>\n",
              "      <td>No</td>\n",
              "      <td>45</td>\n",
              "      <td>No</td>\n",
              "      <td>No phone service</td>\n",
              "      <td>DSL</td>\n",
              "      <td>Yes</td>\n",
              "      <td>...</td>\n",
              "      <td>Yes</td>\n",
              "      <td>Yes</td>\n",
              "      <td>No</td>\n",
              "      <td>No</td>\n",
              "      <td>One year</td>\n",
              "      <td>No</td>\n",
              "      <td>Bank transfer (automatic)</td>\n",
              "      <td>42.30</td>\n",
              "      <td>1840.75</td>\n",
              "      <td>No</td>\n",
              "    </tr>\n",
              "    <tr>\n",
              "      <th>4</th>\n",
              "      <td>9237-HQITU</td>\n",
              "      <td>Female</td>\n",
              "      <td>0</td>\n",
              "      <td>No</td>\n",
              "      <td>No</td>\n",
              "      <td>2</td>\n",
              "      <td>Yes</td>\n",
              "      <td>No</td>\n",
              "      <td>Fiber optic</td>\n",
              "      <td>No</td>\n",
              "      <td>...</td>\n",
              "      <td>No</td>\n",
              "      <td>No</td>\n",
              "      <td>No</td>\n",
              "      <td>No</td>\n",
              "      <td>Month-to-month</td>\n",
              "      <td>Yes</td>\n",
              "      <td>Electronic check</td>\n",
              "      <td>70.70</td>\n",
              "      <td>151.65</td>\n",
              "      <td>Yes</td>\n",
              "    </tr>\n",
              "  </tbody>\n",
              "</table>\n",
              "<p>5 rows × 21 columns</p>\n",
              "</div>\n",
              "      <button class=\"colab-df-convert\" onclick=\"convertToInteractive('df-b5fb79f7-d1a0-478d-8a86-3497f9bf4cda')\"\n",
              "              title=\"Convert this dataframe to an interactive table.\"\n",
              "              style=\"display:none;\">\n",
              "\n",
              "  <svg xmlns=\"http://www.w3.org/2000/svg\" height=\"24px\"viewBox=\"0 0 24 24\"\n",
              "       width=\"24px\">\n",
              "    <path d=\"M0 0h24v24H0V0z\" fill=\"none\"/>\n",
              "    <path d=\"M18.56 5.44l.94 2.06.94-2.06 2.06-.94-2.06-.94-.94-2.06-.94 2.06-2.06.94zm-11 1L8.5 8.5l.94-2.06 2.06-.94-2.06-.94L8.5 2.5l-.94 2.06-2.06.94zm10 10l.94 2.06.94-2.06 2.06-.94-2.06-.94-.94-2.06-.94 2.06-2.06.94z\"/><path d=\"M17.41 7.96l-1.37-1.37c-.4-.4-.92-.59-1.43-.59-.52 0-1.04.2-1.43.59L10.3 9.45l-7.72 7.72c-.78.78-.78 2.05 0 2.83L4 21.41c.39.39.9.59 1.41.59.51 0 1.02-.2 1.41-.59l7.78-7.78 2.81-2.81c.8-.78.8-2.07 0-2.86zM5.41 20L4 18.59l7.72-7.72 1.47 1.35L5.41 20z\"/>\n",
              "  </svg>\n",
              "      </button>\n",
              "\n",
              "\n",
              "\n",
              "    <div id=\"df-387981dc-c54c-4f7b-a92c-09869996982a\">\n",
              "      <button class=\"colab-df-quickchart\" onclick=\"quickchart('df-387981dc-c54c-4f7b-a92c-09869996982a')\"\n",
              "              title=\"Suggest charts.\"\n",
              "              style=\"display:none;\">\n",
              "\n",
              "<svg xmlns=\"http://www.w3.org/2000/svg\" height=\"24px\"viewBox=\"0 0 24 24\"\n",
              "     width=\"24px\">\n",
              "    <g>\n",
              "        <path d=\"M19 3H5c-1.1 0-2 .9-2 2v14c0 1.1.9 2 2 2h14c1.1 0 2-.9 2-2V5c0-1.1-.9-2-2-2zM9 17H7v-7h2v7zm4 0h-2V7h2v10zm4 0h-2v-4h2v4z\"/>\n",
              "    </g>\n",
              "</svg>\n",
              "      </button>\n",
              "    </div>\n",
              "\n",
              "<style>\n",
              "  .colab-df-quickchart {\n",
              "    background-color: #E8F0FE;\n",
              "    border: none;\n",
              "    border-radius: 50%;\n",
              "    cursor: pointer;\n",
              "    display: none;\n",
              "    fill: #1967D2;\n",
              "    height: 32px;\n",
              "    padding: 0 0 0 0;\n",
              "    width: 32px;\n",
              "  }\n",
              "\n",
              "  .colab-df-quickchart:hover {\n",
              "    background-color: #E2EBFA;\n",
              "    box-shadow: 0px 1px 2px rgba(60, 64, 67, 0.3), 0px 1px 3px 1px rgba(60, 64, 67, 0.15);\n",
              "    fill: #174EA6;\n",
              "  }\n",
              "\n",
              "  [theme=dark] .colab-df-quickchart {\n",
              "    background-color: #3B4455;\n",
              "    fill: #D2E3FC;\n",
              "  }\n",
              "\n",
              "  [theme=dark] .colab-df-quickchart:hover {\n",
              "    background-color: #434B5C;\n",
              "    box-shadow: 0px 1px 3px 1px rgba(0, 0, 0, 0.15);\n",
              "    filter: drop-shadow(0px 1px 2px rgba(0, 0, 0, 0.3));\n",
              "    fill: #FFFFFF;\n",
              "  }\n",
              "</style>\n",
              "\n",
              "    <script>\n",
              "      async function quickchart(key) {\n",
              "        const containerElement = document.querySelector('#' + key);\n",
              "        const charts = await google.colab.kernel.invokeFunction(\n",
              "            'suggestCharts', [key], {});\n",
              "      }\n",
              "    </script>\n",
              "\n",
              "      <script>\n",
              "\n",
              "function displayQuickchartButton(domScope) {\n",
              "  let quickchartButtonEl =\n",
              "    domScope.querySelector('#df-387981dc-c54c-4f7b-a92c-09869996982a button.colab-df-quickchart');\n",
              "  quickchartButtonEl.style.display =\n",
              "    google.colab.kernel.accessAllowed ? 'block' : 'none';\n",
              "}\n",
              "\n",
              "        displayQuickchartButton(document);\n",
              "      </script>\n",
              "      <style>\n",
              "    .colab-df-container {\n",
              "      display:flex;\n",
              "      flex-wrap:wrap;\n",
              "      gap: 12px;\n",
              "    }\n",
              "\n",
              "    .colab-df-convert {\n",
              "      background-color: #E8F0FE;\n",
              "      border: none;\n",
              "      border-radius: 50%;\n",
              "      cursor: pointer;\n",
              "      display: none;\n",
              "      fill: #1967D2;\n",
              "      height: 32px;\n",
              "      padding: 0 0 0 0;\n",
              "      width: 32px;\n",
              "    }\n",
              "\n",
              "    .colab-df-convert:hover {\n",
              "      background-color: #E2EBFA;\n",
              "      box-shadow: 0px 1px 2px rgba(60, 64, 67, 0.3), 0px 1px 3px 1px rgba(60, 64, 67, 0.15);\n",
              "      fill: #174EA6;\n",
              "    }\n",
              "\n",
              "    [theme=dark] .colab-df-convert {\n",
              "      background-color: #3B4455;\n",
              "      fill: #D2E3FC;\n",
              "    }\n",
              "\n",
              "    [theme=dark] .colab-df-convert:hover {\n",
              "      background-color: #434B5C;\n",
              "      box-shadow: 0px 1px 3px 1px rgba(0, 0, 0, 0.15);\n",
              "      filter: drop-shadow(0px 1px 2px rgba(0, 0, 0, 0.3));\n",
              "      fill: #FFFFFF;\n",
              "    }\n",
              "  </style>\n",
              "\n",
              "      <script>\n",
              "        const buttonEl =\n",
              "          document.querySelector('#df-b5fb79f7-d1a0-478d-8a86-3497f9bf4cda button.colab-df-convert');\n",
              "        buttonEl.style.display =\n",
              "          google.colab.kernel.accessAllowed ? 'block' : 'none';\n",
              "\n",
              "        async function convertToInteractive(key) {\n",
              "          const element = document.querySelector('#df-b5fb79f7-d1a0-478d-8a86-3497f9bf4cda');\n",
              "          const dataTable =\n",
              "            await google.colab.kernel.invokeFunction('convertToInteractive',\n",
              "                                                     [key], {});\n",
              "          if (!dataTable) return;\n",
              "\n",
              "          const docLinkHtml = 'Like what you see? Visit the ' +\n",
              "            '<a target=\"_blank\" href=https://colab.research.google.com/notebooks/data_table.ipynb>data table notebook</a>'\n",
              "            + ' to learn more about interactive tables.';\n",
              "          element.innerHTML = '';\n",
              "          dataTable['output_type'] = 'display_data';\n",
              "          await google.colab.output.renderOutput(dataTable, element);\n",
              "          const docLink = document.createElement('div');\n",
              "          docLink.innerHTML = docLinkHtml;\n",
              "          element.appendChild(docLink);\n",
              "        }\n",
              "      </script>\n",
              "    </div>\n",
              "  </div>\n"
            ]
          },
          "metadata": {},
          "execution_count": 3
        }
      ]
    },
    {
      "cell_type": "markdown",
      "source": [
        "# Questions with answers\n",
        "1. What is the shape of the dataset? (Number of rows and columns)\n"
      ],
      "metadata": {
        "id": "LKmN70n76n69"
      }
    },
    {
      "cell_type": "code",
      "source": [
        "print(\"Shape of the dataset:\", df.shape,\"\\n\\n\")\n"
      ],
      "metadata": {
        "id": "F1gFfJEn6QdM",
        "outputId": "9b6f943d-4073-47cb-a337-b142f86503c4",
        "colab": {
          "base_uri": "https://localhost:8080/"
        }
      },
      "execution_count": 4,
      "outputs": [
        {
          "output_type": "stream",
          "name": "stdout",
          "text": [
            "Shape of the dataset: (7043, 21) \n",
            "\n",
            "\n"
          ]
        }
      ]
    },
    {
      "cell_type": "markdown",
      "source": [
        "2. What are the data types of each column?\n"
      ],
      "metadata": {
        "id": "8hvBcjS36w8p"
      }
    },
    {
      "cell_type": "code",
      "source": [
        "print(\"Data types of each column:\")\n",
        "print(df.dtypes)\n"
      ],
      "metadata": {
        "id": "GS5yTDFJ6QaN",
        "outputId": "6f1c0970-93e0-4644-ddc4-9e41e8d2b496",
        "colab": {
          "base_uri": "https://localhost:8080/"
        }
      },
      "execution_count": 5,
      "outputs": [
        {
          "output_type": "stream",
          "name": "stdout",
          "text": [
            "Data types of each column:\n",
            "customerID           object\n",
            "gender               object\n",
            "SeniorCitizen         int64\n",
            "Partner              object\n",
            "Dependents           object\n",
            "tenure                int64\n",
            "PhoneService         object\n",
            "MultipleLines        object\n",
            "InternetService      object\n",
            "OnlineSecurity       object\n",
            "OnlineBackup         object\n",
            "DeviceProtection     object\n",
            "TechSupport          object\n",
            "StreamingTV          object\n",
            "StreamingMovies      object\n",
            "Contract             object\n",
            "PaperlessBilling     object\n",
            "PaymentMethod        object\n",
            "MonthlyCharges      float64\n",
            "TotalCharges         object\n",
            "Churn                object\n",
            "dtype: object\n"
          ]
        }
      ]
    },
    {
      "cell_type": "markdown",
      "source": [
        "3. Are there any missing values in the dataset? If so, how can we handle them?\n"
      ],
      "metadata": {
        "id": "y53pegyL639m"
      }
    },
    {
      "cell_type": "code",
      "source": [
        "print(\"Number of missing values in each column:\")\n",
        "print(df.isnull().sum())\n",
        "print(\"\\n\\n\")"
      ],
      "metadata": {
        "id": "j2sLhFDb6QAI",
        "outputId": "8afab0ff-eb04-4e82-850d-fd1108f3dc99",
        "colab": {
          "base_uri": "https://localhost:8080/"
        }
      },
      "execution_count": 6,
      "outputs": [
        {
          "output_type": "stream",
          "name": "stdout",
          "text": [
            "Number of missing values in each column:\n",
            "customerID          0\n",
            "gender              0\n",
            "SeniorCitizen       0\n",
            "Partner             0\n",
            "Dependents          0\n",
            "tenure              0\n",
            "PhoneService        0\n",
            "MultipleLines       0\n",
            "InternetService     0\n",
            "OnlineSecurity      0\n",
            "OnlineBackup        0\n",
            "DeviceProtection    0\n",
            "TechSupport         0\n",
            "StreamingTV         0\n",
            "StreamingMovies     0\n",
            "Contract            0\n",
            "PaperlessBilling    0\n",
            "PaymentMethod       0\n",
            "MonthlyCharges      0\n",
            "TotalCharges        0\n",
            "Churn               0\n",
            "dtype: int64\n",
            "\n",
            "\n",
            "\n"
          ]
        }
      ]
    },
    {
      "cell_type": "markdown",
      "source": [
        "4. What are the summary statistics of numerical columns (e.g., mean, median, min, max)?\n"
      ],
      "metadata": {
        "id": "UMEj0MeZ--Qe"
      }
    },
    {
      "cell_type": "code",
      "source": [
        "print(\"Summary statistics of numerical columns:\")\n",
        "print(df.describe())\n",
        "print(\"\\n\\n\")"
      ],
      "metadata": {
        "id": "VpZ4o82e-5Bc",
        "outputId": "d004492f-0992-4ec5-fa0b-de7bd25a2f22",
        "colab": {
          "base_uri": "https://localhost:8080/"
        }
      },
      "execution_count": 7,
      "outputs": [
        {
          "output_type": "stream",
          "name": "stdout",
          "text": [
            "Summary statistics of numerical columns:\n",
            "       SeniorCitizen       tenure  MonthlyCharges\n",
            "count    7043.000000  7043.000000     7043.000000\n",
            "mean        0.162147    32.371149       64.761692\n",
            "std         0.368612    24.559481       30.090047\n",
            "min         0.000000     0.000000       18.250000\n",
            "25%         0.000000     9.000000       35.500000\n",
            "50%         0.000000    29.000000       70.350000\n",
            "75%         0.000000    55.000000       89.850000\n",
            "max         1.000000    72.000000      118.750000\n",
            "\n",
            "\n",
            "\n"
          ]
        }
      ]
    },
    {
      "cell_type": "markdown",
      "source": [
        "5. How many customers are male, and how many are female?\n"
      ],
      "metadata": {
        "id": "Eu2X9TjU7BCG"
      }
    },
    {
      "cell_type": "code",
      "source": [
        "import pandas as pd\n",
        "import matplotlib.pyplot as plt\n",
        "\n",
        "# Assuming you have a DataFrame called 'df' with a 'gender' column\n",
        "\n",
        "# Calculate gender counts\n",
        "gender_counts = df['gender'].value_counts()\n",
        "\n",
        "# Print gender distribution\n",
        "print(\"Gender distribution:\")\n",
        "print(gender_counts)\n",
        "\n",
        "# Visualization: Bar plot for gender distribution\n",
        "plt.figure(figsize=(6, 4))\n",
        "\n",
        "# Specify colors for each gender category\n",
        "colors = ['skyblue', 'pink']\n",
        "\n",
        "# Plot the bar chart using the specified colors\n",
        "plt.bar(gender_counts.index, gender_counts.values, color=colors)\n",
        "\n",
        "plt.xlabel(\"Gender\")\n",
        "plt.ylabel(\"Count\")\n",
        "plt.title(\"Gender Distribution\")\n",
        "plt.show()\n",
        "print(\"\\n\\n\")"
      ],
      "metadata": {
        "id": "qTxU1h8d6P8l",
        "outputId": "371e8ba4-f15c-4d9c-833f-e0c5240c8ed8",
        "colab": {
          "base_uri": "https://localhost:8080/",
          "height": 532
        }
      },
      "execution_count": 8,
      "outputs": [
        {
          "output_type": "stream",
          "name": "stdout",
          "text": [
            "Gender distribution:\n",
            "Male      3555\n",
            "Female    3488\n",
            "Name: gender, dtype: int64\n"
          ]
        },
        {
          "output_type": "display_data",
          "data": {
            "text/plain": [
              "<Figure size 600x400 with 1 Axes>"
            ],
            "image/png": "[encoded data removed]"
          },
          "metadata": {}
        },
        {
          "output_type": "stream",
          "name": "stdout",
          "text": [
            "\n",
            "\n",
            "\n"
          ]
        }
      ]
    },
    {
      "cell_type": "markdown",
      "source": [
        "\n",
        "\n",
        "\n",
        "6. What is the distribution of customer ages (SeniorCitizen)?\n"
      ],
      "metadata": {
        "id": "TOBr3iEV8OkJ"
      }
    },
    {
      "cell_type": "code",
      "source": [
        "senior_citizen_counts = df['SeniorCitizen'].value_counts()\n",
        "print(\"Senior Citizen distribution:\")\n",
        "print(senior_citizen_counts)\n",
        "\n",
        "# Visualization: Pie chart for Senior Citizen distribution\n",
        "plt.figure(figsize=(5, 5))\n",
        "plt.pie(senior_citizen_counts, labels=['Not Senior Citizen', 'Senior Citizen'], autopct='%1.1f%%', colors=['lightcoral', 'lightgreen'])\n",
        "plt.title(\"Senior Citizen Distribution\")\n",
        "plt.show()\n",
        "print(\"\\n\\n\")"
      ],
      "metadata": {
        "id": "qirJbYgW6P5i",
        "outputId": "ba22bf63-9853-4206-8201-08b97eaf6443",
        "colab": {
          "base_uri": "https://localhost:8080/",
          "height": 566
        }
      },
      "execution_count": 9,
      "outputs": [
        {
          "output_type": "stream",
          "name": "stdout",
          "text": [
            "Senior Citizen distribution:\n",
            "0    5901\n",
            "1    1142\n",
            "Name: SeniorCitizen, dtype: int64\n"
          ]
        },
        {
          "output_type": "display_data",
          "data": {
            "text/plain": [
              "<Figure size 500x500 with 1 Axes>"
            ],
            "image/png": "[encoded data removed]"
          },
          "metadata": {}
        },
        {
          "output_type": "stream",
          "name": "stdout",
          "text": [
            "\n",
            "\n",
            "\n"
          ]
        }
      ]
    },
    {
      "cell_type": "markdown",
      "source": [
        "7. How many customers have partners and dependents?\n"
      ],
      "metadata": {
        "id": "yp8ISLOK8iO4"
      }
    },
    {
      "cell_type": "code",
      "source": [
        "partner_counts = df['Partner'].value_counts()\n",
        "dependents_counts = df['Dependents'].value_counts()\n",
        "print(\"Partner distribution:\")\n",
        "print(partner_counts)\n",
        "print(\"Dependents distribution:\")\n",
        "print(dependents_counts)\n",
        "\n",
        "# Visualization: Pie chart for Partner and Dependents distribution\n",
        "plt.figure(figsize=(10, 5))\n",
        "plt.subplot(1, 2, 1)\n",
        "plt.pie(partner_counts, labels=partner_counts.index, autopct='%1.1f%%', colors=['gold', 'lightcoral'])\n",
        "plt.title(\"Partner Distribution\")\n",
        "plt.subplot(1, 2, 2)\n",
        "plt.pie(dependents_counts, labels=dependents_counts.index, autopct='%1.1f%%', colors=['skyblue', 'lightgreen'])\n",
        "plt.title(\"Dependents Distribution\")\n",
        "plt.show()\n",
        "print(\"\\n\\n\")"
      ],
      "metadata": {
        "id": "gmbQkpV_6P2H",
        "outputId": "d31e5add-5279-4c46-b0b7-15bf0c00d386",
        "colab": {
          "base_uri": "https://localhost:8080/",
          "height": 602
        }
      },
      "execution_count": 10,
      "outputs": [
        {
          "output_type": "stream",
          "name": "stdout",
          "text": [
            "Partner distribution:\n",
            "No     3641\n",
            "Yes    3402\n",
            "Name: Partner, dtype: int64\n",
            "Dependents distribution:\n",
            "No     4933\n",
            "Yes    2110\n",
            "Name: Dependents, dtype: int64\n"
          ]
        },
        {
          "output_type": "display_data",
          "data": {
            "text/plain": [
              "<Figure size 1000x500 with 2 Axes>"
            ],
            "image/png": "[encoded data removed]"
          },
          "metadata": {}
        },
        {
          "output_type": "stream",
          "name": "stdout",
          "text": [
            "\n",
            "\n",
            "\n"
          ]
        }
      ]
    },
    {
      "cell_type": "markdown",
      "source": [
        "8. What is the average tenure of customers?\n"
      ],
      "metadata": {
        "id": "DccCCkCE8qUf"
      }
    },
    {
      "cell_type": "code",
      "source": [
        "average_tenure = df['tenure'].mean()\n",
        "print(\"Average tenure of customers:\", average_tenure)\n",
        "\n",
        "# Visualization: Histogram for tenure distribution\n",
        "plt.figure(figsize=(8, 5))\n",
        "plt.hist(df['tenure'], bins=20, color='lightblue', edgecolor='black')\n",
        "plt.xlabel(\"Tenure (Months)\")\n",
        "plt.ylabel(\"Count\")\n",
        "plt.title(\"Tenure Distribution\")\n",
        "plt.show()\n",
        "print(\"\\n\\n\")"
      ],
      "metadata": {
        "id": "rNoJ4Y8x6PzM",
        "outputId": "63433b86-b0db-4cc4-d5d6-0b334e473480",
        "colab": {
          "base_uri": "https://localhost:8080/",
          "height": 556
        }
      },
      "execution_count": 11,
      "outputs": [
        {
          "output_type": "stream",
          "name": "stdout",
          "text": [
            "Average tenure of customers: 32.37114865824223\n"
          ]
        },
        {
          "output_type": "display_data",
          "data": {
            "text/plain": [
              "<Figure size 800x500 with 1 Axes>"
            ],
            "image/png": "[encoded data removed]"
          },
          "metadata": {}
        },
        {
          "output_type": "stream",
          "name": "stdout",
          "text": [
            "\n",
            "\n",
            "\n"
          ]
        }
      ]
    },
    {
      "cell_type": "code",
      "source": [],
      "metadata": {
        "id": "5kCyan9G6PwV"
      },
      "execution_count": 11,
      "outputs": []
    },
    {
      "cell_type": "markdown",
      "source": [
        "9. How many customers have phone service, and how many have multiple lines?\n"
      ],
      "metadata": {
        "id": "dnnBXKGv9QI9"
      }
    },
    {
      "cell_type": "code",
      "source": [
        "phone_service_counts = df['PhoneService'].value_counts()\n",
        "multiple_lines_counts = df['MultipleLines'].value_counts()\n",
        "print(\"Phone Service distribution:\")\n",
        "print(phone_service_counts)\n",
        "print(\"Multiple Lines distribution:\")\n",
        "print(multiple_lines_counts)\n",
        "\n",
        "# Visualization: Bar plots for Phone Service and Multiple Lines distribution\n",
        "plt.figure(figsize=(10, 4))\n",
        "plt.subplot(1, 2, 1)\n",
        "plt.bar(phone_service_counts.index, phone_service_counts.values, color='skyblue')\n",
        "plt.xlabel(\"Phone Service\")\n",
        "plt.ylabel(\"Count\")\n",
        "plt.title(\"Phone Service Distribution\")\n",
        "plt.subplot(1, 2, 2)\n",
        "plt.bar(multiple_lines_counts.index, multiple_lines_counts.values, color='lightgreen')\n",
        "plt.xlabel(\"Multiple Lines\")\n",
        "plt.ylabel(\"Count\")\n",
        "plt.title(\"Multiple Lines Distribution\")\n",
        "plt.show()\n",
        "print(\"\\n\\n\")"
      ],
      "metadata": {
        "id": "luPP7Qwd6PtD",
        "outputId": "6f4ffa61-37e0-43b6-bba8-f2b3f0367aa7",
        "colab": {
          "base_uri": "https://localhost:8080/",
          "height": 618
        }
      },
      "execution_count": 12,
      "outputs": [
        {
          "output_type": "stream",
          "name": "stdout",
          "text": [
            "Phone Service distribution:\n",
            "Yes    6361\n",
            "No      682\n",
            "Name: PhoneService, dtype: int64\n",
            "Multiple Lines distribution:\n",
            "No                  3390\n",
            "Yes                 2971\n",
            "No phone service     682\n",
            "Name: MultipleLines, dtype: int64\n"
          ]
        },
        {
          "output_type": "display_data",
          "data": {
            "text/plain": [
              "<Figure size 1000x400 with 2 Axes>"
            ],
            "image/png": "[encoded data removed]"
          },
          "metadata": {}
        },
        {
          "output_type": "stream",
          "name": "stdout",
          "text": [
            "\n",
            "\n",
            "\n"
          ]
        }
      ]
    },
    {
      "cell_type": "markdown",
      "source": [
        "10. What are the counts of different Internet service types?\n"
      ],
      "metadata": {
        "id": "BYenGfhu9bDQ"
      }
    },
    {
      "cell_type": "code",
      "source": [
        "internet_service_counts = df['InternetService'].value_counts()\n",
        "print(\"Internet Service distribution:\")\n",
        "print(internet_service_counts)\n",
        "\n",
        "# Visualization: Bar plot for Internet Service distribution\n",
        "plt.figure(figsize=(6, 4))\n",
        "plt.bar(internet_service_counts.index, internet_service_counts.values, color='lightcoral')\n",
        "plt.xlabel(\"Internet Service\")\n",
        "plt.ylabel(\"Count\")\n",
        "plt.title(\"Internet Service Distribution\")\n",
        "plt.show()\n",
        "print(\"\\n\\n\")"
      ],
      "metadata": {
        "id": "mqF8CeyB6PqG",
        "outputId": "d62d4e40-9ddc-4c0e-92f0-46c19987f98c",
        "colab": {
          "base_uri": "https://localhost:8080/",
          "height": 549
        }
      },
      "execution_count": 13,
      "outputs": [
        {
          "output_type": "stream",
          "name": "stdout",
          "text": [
            "Internet Service distribution:\n",
            "Fiber optic    3096\n",
            "DSL            2421\n",
            "No             1526\n",
            "Name: InternetService, dtype: int64\n"
          ]
        },
        {
          "output_type": "display_data",
          "data": {
            "text/plain": [
              "<Figure size 600x400 with 1 Axes>"
            ],
            "image/png": "[encoded data removed]"
          },
          "metadata": {}
        },
        {
          "output_type": "stream",
          "name": "stdout",
          "text": [
            "\n",
            "\n",
            "\n"
          ]
        }
      ]
    },
    {
      "cell_type": "markdown",
      "source": [
        "11. How many customers have online security and online backup services?\n"
      ],
      "metadata": {
        "id": "NgQI0qtg9lI0"
      }
    },
    {
      "cell_type": "code",
      "source": [
        "online_security_counts = df['OnlineSecurity'].value_counts()\n",
        "online_backup_counts = df['OnlineBackup'].value_counts()\n",
        "print(\"Online Security distribution:\")\n",
        "print(online_security_counts)\n",
        "print(\"Online Backup distribution:\")\n",
        "print(online_backup_counts)\n",
        "\n",
        "# Visualization: Bar plots for Online Security and Online Backup distribution\n",
        "plt.figure(figsize=(10, 4))\n",
        "plt.subplot(1, 2, 1)\n",
        "plt.bar(online_security_counts.index, online_security_counts.values, color='lightblue')\n",
        "plt.xlabel(\"Online Security\")\n",
        "plt.ylabel(\"Count\")\n",
        "plt.title(\"Online Security Distribution\")\n",
        "plt.subplot(1, 2, 2)\n",
        "plt.bar(online_backup_counts.index, online_backup_counts.values, color='lightgreen')\n",
        "plt.xlabel(\"Online Backup\")\n",
        "plt.ylabel(\"Count\")\n",
        "plt.title(\"Online Backup Distribution\")\n",
        "plt.show()\n",
        "print(\"\\n\\n\")"
      ],
      "metadata": {
        "id": "xiXx4uHd6PnX",
        "outputId": "d5a232bb-8048-4b27-84c4-ef78904985f2",
        "colab": {
          "base_uri": "https://localhost:8080/",
          "height": 636
        }
      },
      "execution_count": 14,
      "outputs": [
        {
          "output_type": "stream",
          "name": "stdout",
          "text": [
            "Online Security distribution:\n",
            "No                     3498\n",
            "Yes                    2019\n",
            "No internet service    1526\n",
            "Name: OnlineSecurity, dtype: int64\n",
            "Online Backup distribution:\n",
            "No                     3088\n",
            "Yes                    2429\n",
            "No internet service    1526\n",
            "Name: OnlineBackup, dtype: int64\n"
          ]
        },
        {
          "output_type": "display_data",
          "data": {
            "text/plain": [
              "<Figure size 1000x400 with 2 Axes>"
            ],
            "image/png": "[encoded data removed]"
          },
          "metadata": {}
        },
        {
          "output_type": "stream",
          "name": "stdout",
          "text": [
            "\n",
            "\n",
            "\n"
          ]
        }
      ]
    },
    {
      "cell_type": "markdown",
      "source": [
        "12. How many customers have device protection and tech support services?\n"
      ],
      "metadata": {
        "id": "13f2JZzt9udJ"
      }
    },
    {
      "cell_type": "code",
      "source": [
        "device_protection_counts = df['DeviceProtection'].value_counts()\n",
        "tech_support_counts = df['TechSupport'].value_counts()\n",
        "print(\"Device Protection distribution:\")\n",
        "print(device_protection_counts)\n",
        "print(\"Tech Support distribution:\")\n",
        "print(tech_support_counts)\n",
        "\n",
        "# Visualization: Bar plots for Device Protection and Tech Support distribution\n",
        "plt.figure(figsize=(10, 4))\n",
        "plt.subplot(1, 2, 1)\n",
        "plt.bar(device_protection_counts.index, device_protection_counts.values, color='lightcoral')\n",
        "plt.xlabel(\"Device Protection\")\n",
        "plt.ylabel(\"Count\")\n",
        "plt.title(\"Device Protection Distribution\")\n",
        "plt.subplot(1, 2, 2)\n",
        "plt.bar(tech_support_counts.index, tech_support_counts.values, color='lightyellow')\n",
        "plt.xlabel(\"Tech Support\")\n",
        "plt.ylabel(\"Count\")\n",
        "plt.title(\"Tech Support Distribution\")\n",
        "plt.show()\n",
        "print(\"\\n\\n\")"
      ],
      "metadata": {
        "id": "gr0_61oL6PkS",
        "outputId": "65f658b9-73ba-496c-895d-fe729deb5ccb",
        "colab": {
          "base_uri": "https://localhost:8080/",
          "height": 636
        }
      },
      "execution_count": 15,
      "outputs": [
        {
          "output_type": "stream",
          "name": "stdout",
          "text": [
            "Device Protection distribution:\n",
            "No                     3095\n",
            "Yes                    2422\n",
            "No internet service    1526\n",
            "Name: DeviceProtection, dtype: int64\n",
            "Tech Support distribution:\n",
            "No                     3473\n",
            "Yes                    2044\n",
            "No internet service    1526\n",
            "Name: TechSupport, dtype: int64\n"
          ]
        },
        {
          "output_type": "display_data",
          "data": {
            "text/plain": [
              "<Figure size 1000x400 with 2 Axes>"
            ],
            "image/png": "[encoded data removed]"
          },
          "metadata": {}
        },
        {
          "output_type": "stream",
          "name": "stdout",
          "text": [
            "\n",
            "\n",
            "\n"
          ]
        }
      ]
    },
    {
      "cell_type": "markdown",
      "source": [
        "13. What is the distribution of contract types (Month-to-month, One year)?\n"
      ],
      "metadata": {
        "id": "0pXCCBPC94b_"
      }
    },
    {
      "cell_type": "code",
      "source": [
        "contract_counts = df['Contract'].value_counts()\n",
        "print(\"Contract distribution:\")\n",
        "print(contract_counts)\n",
        "\n",
        "# Visualization: Pie chart for Contract distribution\n",
        "plt.figure(figsize=(6, 6))\n",
        "plt.pie(contract_counts, labels=contract_counts.index, autopct='%1.1f%%', colors=['lightgreen', 'lightcoral', 'lightblue'])\n",
        "plt.title(\"Contract Distribution\")\n",
        "plt.show()\n",
        "print(\"\\n\\n\")\n"
      ],
      "metadata": {
        "id": "t9ycIrp46PR2",
        "outputId": "466748f3-9efd-4310-847d-2f33f7b7618c",
        "colab": {
          "base_uri": "https://localhost:8080/",
          "height": 660
        }
      },
      "execution_count": 16,
      "outputs": [
        {
          "output_type": "stream",
          "name": "stdout",
          "text": [
            "Contract distribution:\n",
            "Month-to-month    3875\n",
            "Two year          1695\n",
            "One year          1473\n",
            "Name: Contract, dtype: int64\n"
          ]
        },
        {
          "output_type": "display_data",
          "data": {
            "text/plain": [
              "<Figure size 600x600 with 1 Axes>"
            ],
            "image/png": "[encoded data removed]"
          },
          "metadata": {}
        },
        {
          "output_type": "stream",
          "name": "stdout",
          "text": [
            "\n",
            "\n",
            "\n"
          ]
        }
      ]
    },
    {
      "cell_type": "markdown",
      "source": [
        "14. How many customers use paperless billing, and what are the payment methods they prefer?\n"
      ],
      "metadata": {
        "id": "ksQq8mDB-Alf"
      }
    },
    {
      "cell_type": "code",
      "source": [
        "paperless_billing_counts = df['PaperlessBilling'].value_counts()\n",
        "payment_method_counts = df['PaymentMethod'].value_counts()\n",
        "print(\"Paperless Billing distribution:\")\n",
        "print(paperless_billing_counts)\n",
        "print(\"Payment Method distribution:\")\n",
        "print(payment_method_counts)\n",
        "\n",
        "# Visualization: Bar plot for Paperless Billing and Payment Method distribution\n",
        "plt.figure(figsize=(12, 4))\n",
        "plt.subplot(1, 2, 1)\n",
        "plt.bar(paperless_billing_counts.index, paperless_billing_counts.values, color='skyblue')\n",
        "plt.xlabel(\"Paperless Billing\")\n",
        "plt.ylabel(\"Count\")\n",
        "plt.title(\"Paperless Billing Distribution\")\n",
        "plt.subplot(1, 2, 2)\n",
        "plt.bar(payment_method_counts.index, payment_method_counts.values, color='lightpink')\n",
        "plt.xlabel(\"Payment Method\")\n",
        "plt.ylabel(\"Count\")\n",
        "plt.title(\"Payment Method Distribution\")\n",
        "plt.xticks(rotation=45, ha='right')\n",
        "plt.tight_layout()\n",
        "plt.show()\n",
        "print(\"\\n\\n\")"
      ],
      "metadata": {
        "id": "Wh3TbWqE6POd",
        "outputId": "8f5e8a4a-383b-423f-875c-0e340b84371f",
        "colab": {
          "base_uri": "https://localhost:8080/",
          "height": 558
        }
      },
      "execution_count": 17,
      "outputs": [
        {
          "output_type": "stream",
          "name": "stdout",
          "text": [
            "Paperless Billing distribution:\n",
            "Yes    4171\n",
            "No     2872\n",
            "Name: PaperlessBilling, dtype: int64\n",
            "Payment Method distribution:\n",
            "Electronic check             2365\n",
            "Mailed check                 1612\n",
            "Bank transfer (automatic)    1544\n",
            "Credit card (automatic)      1522\n",
            "Name: PaymentMethod, dtype: int64\n"
          ]
        },
        {
          "output_type": "display_data",
          "data": {
            "text/plain": [
              "<Figure size 1200x400 with 2 Axes>"
            ],
            "image/png": "[encoded data removed]"
          },
          "metadata": {}
        },
        {
          "output_type": "stream",
          "name": "stdout",
          "text": [
            "\n",
            "\n",
            "\n"
          ]
        }
      ]
    },
    {
      "cell_type": "markdown",
      "source": [
        "15. What is the distribution of churn (customer retention) in the dataset?\n"
      ],
      "metadata": {
        "id": "WkdH-HgG-Lw8"
      }
    },
    {
      "cell_type": "code",
      "source": [
        "churn_counts = df['Churn'].value_counts()\n",
        "print(\"Churn distribution:\")\n",
        "print(churn_counts)\n",
        "\n",
        "# Visualization: Pie chart for Churn distribution\n",
        "plt.figure(figsize=(5, 5))\n",
        "plt.pie(churn_counts, labels=churn_counts.index, autopct='%1.1f%%', colors=['lightcoral', 'lightgreen'])\n",
        "plt.title(\"Churn Distribution\")\n",
        "plt.show()\n",
        "print(\"\\n\\n\\n\")"
      ],
      "metadata": {
        "id": "TDBTJ4Gn6PLR",
        "outputId": "d76224c9-4340-4fe4-d188-cb05e2e87823",
        "colab": {
          "base_uri": "https://localhost:8080/",
          "height": 583
        }
      },
      "execution_count": 18,
      "outputs": [
        {
          "output_type": "stream",
          "name": "stdout",
          "text": [
            "Churn distribution:\n",
            "No     5174\n",
            "Yes    1869\n",
            "Name: Churn, dtype: int64\n"
          ]
        },
        {
          "output_type": "display_data",
          "data": {
            "text/plain": [
              "<Figure size 500x500 with 1 Axes>"
            ],
            "image/png": "[encoded data removed]"
          },
          "metadata": {}
        },
        {
          "output_type": "stream",
          "name": "stdout",
          "text": [
            "\n",
            "\n",
            "\n",
            "\n"
          ]
        }
      ]
    },
    {
      "cell_type": "markdown",
      "source": [
        "# Data Cleaning\n"
      ],
      "metadata": {
        "id": "A9rYqH6k_h8q"
      }
    },
    {
      "cell_type": "code",
      "source": [
        "# Check for missing values again\n",
        "print(\"Number of missing values in each column:\")\n",
        "print(df.isnull().sum())\n",
        "print(\"\\n\\n\\n\")"
      ],
      "metadata": {
        "id": "J6c5E2U36PIl",
        "outputId": "4016ade0-e08e-4c30-c800-45c676e8df55",
        "colab": {
          "base_uri": "https://localhost:8080/"
        }
      },
      "execution_count": 19,
      "outputs": [
        {
          "output_type": "stream",
          "name": "stdout",
          "text": [
            "Number of missing values in each column:\n",
            "customerID          0\n",
            "gender              0\n",
            "SeniorCitizen       0\n",
            "Partner             0\n",
            "Dependents          0\n",
            "tenure              0\n",
            "PhoneService        0\n",
            "MultipleLines       0\n",
            "InternetService     0\n",
            "OnlineSecurity      0\n",
            "OnlineBackup        0\n",
            "DeviceProtection    0\n",
            "TechSupport         0\n",
            "StreamingTV         0\n",
            "StreamingMovies     0\n",
            "Contract            0\n",
            "PaperlessBilling    0\n",
            "PaymentMethod       0\n",
            "MonthlyCharges      0\n",
            "TotalCharges        0\n",
            "Churn               0\n",
            "dtype: int64\n",
            "\n",
            "\n",
            "\n",
            "\n"
          ]
        }
      ]
    },
    {
      "cell_type": "markdown",
      "source": [
        "# Data Processing"
      ],
      "metadata": {
        "id": "T42NYKMt_w5e"
      }
    },
    {
      "cell_type": "code",
      "source": [
        "df_copy = df.copy()\n"
      ],
      "metadata": {
        "id": "4ZrWSLuOLp0k"
      },
      "execution_count": 20,
      "outputs": []
    },
    {
      "cell_type": "code",
      "source": [
        "# Convert categorical variables to numerical representations\n",
        "mapping_MultipleLines = {'No phone service': 0, 'No': 1, 'Yes': 2}\n",
        "mapping_InternetService = {'DSL': 0, 'No': 1, 'Fiber optic': 2}\n",
        "mapping_OnlineSecurity = {'No': 0, 'Yes': 1, 'No internet service': 2}\n",
        "mapping_OnlineBackup = {'No': 0, 'Yes': 1, 'No internet service': 2}\n",
        "mapping_DeviceProtection = {'No': 0, 'Yes': 1, 'No internet service': 2}\n",
        "mapping_TechSupport = {'No': 0, 'Yes': 1, 'No internet service': 2}\n",
        "mapping_StreamingTV = {'No': 0, 'Yes': 1, 'No internet service': 2}\n",
        "mapping_StreamingMovies = {'No': 0, 'Yes': 1, 'No internet service': 2}\n",
        "mapping_Contract = {'Month-to-month': 0, 'One year': 1, 'Two year': 2}\n",
        "mapping_PaymentMethod = {'Electronic check': 0, 'Mailed check': 1, 'Bank transfer (automatic)': 2,'Credit card (automatic)':3}\n",
        "\n",
        "\n",
        "df_copy['MultipleLines'] = df_copy['MultipleLines'].map(mapping_MultipleLines)\n",
        "df_copy['InternetService'] = df_copy['InternetService'].map(mapping_InternetService)\n",
        "df_copy['OnlineSecurity'] = df_copy['OnlineSecurity'].map(mapping_OnlineSecurity)\n",
        "df_copy['OnlineBackup'] = df_copy['OnlineBackup'].map(mapping_OnlineBackup)\n",
        "df_copy['DeviceProtection'] = df_copy['DeviceProtection'].map(mapping_DeviceProtection)\n",
        "df_copy['TechSupport'] = df_copy['TechSupport'].map(mapping_TechSupport)\n",
        "df_copy['StreamingTV'] = df_copy['StreamingTV'].map(mapping_StreamingTV)\n",
        "df_copy['StreamingMovies'] = df_copy['StreamingMovies'].map(mapping_StreamingMovies)\n",
        "df_copy['Contract'] = df_copy['Contract'].map(mapping_Contract)\n",
        "df_copy['PaymentMethod'] = df_copy['PaymentMethod'].map(mapping_PaymentMethod)\n",
        "\n",
        "categorical_columns = ['gender', 'Partner', 'Dependents', 'PhoneService','PaperlessBilling', \"Churn\"]\n",
        "df_encoded = pd.get_dummies(df_copy, columns=categorical_columns, drop_first=True)\n",
        "\n",
        "df_encoded.head(3)\n"
      ],
      "metadata": {
        "id": "VZEefVtG6PGI",
        "outputId": "00a09694-2fb8-4ab4-ea51-3933a670957f",
        "colab": {
          "base_uri": "https://localhost:8080/",
          "height": 289
        }
      },
      "execution_count": 21,
      "outputs": [
        {
          "output_type": "execute_result",
          "data": {
            "text/plain": [
              "   customerID  SeniorCitizen  tenure  MultipleLines  InternetService  \\\n",
              "0  7590-VHVEG              0       1              0                0   \n",
              "1  5575-GNVDE              0      34              1                0   \n",
              "2  3668-QPYBK              0       2              1                0   \n",
              "\n",
              "   OnlineSecurity  OnlineBackup  DeviceProtection  TechSupport  StreamingTV  \\\n",
              "0               0             1                 0            0            0   \n",
              "1               1             0                 1            0            0   \n",
              "2               1             1                 0            0            0   \n",
              "\n",
              "   ...  Contract  PaymentMethod  MonthlyCharges  TotalCharges gender_Male  \\\n",
              "0  ...         0              0           29.85         29.85           0   \n",
              "1  ...         1              1           56.95        1889.5           1   \n",
              "2  ...         0              1           53.85        108.15           1   \n",
              "\n",
              "   Partner_Yes  Dependents_Yes  PhoneService_Yes  PaperlessBilling_Yes  \\\n",
              "0            1               0                 0                     1   \n",
              "1            0               0                 1                     0   \n",
              "2            0               0                 1                     1   \n",
              "\n",
              "   Churn_Yes  \n",
              "0          0  \n",
              "1          0  \n",
              "2          1  \n",
              "\n",
              "[3 rows x 21 columns]"
            ],
            "text/html": [
              "\n",
              "\n",
              "  <div id=\"df-66b124c1-c8fa-44d0-a199-e2637a487d42\">\n",
              "    <div class=\"colab-df-container\">\n",
              "      <div>\n",
              "<style scoped>\n",
              "    .dataframe tbody tr th:only-of-type {\n",
              "        vertical-align: middle;\n",
              "    }\n",
              "\n",
              "    .dataframe tbody tr th {\n",
              "        vertical-align: top;\n",
              "    }\n",
              "\n",
              "    .dataframe thead th {\n",
              "        text-align: right;\n",
              "    }\n",
              "</style>\n",
              "<table border=\"1\" class=\"dataframe\">\n",
              "  <thead>\n",
              "    <tr style=\"text-align: right;\">\n",
              "      <th></th>\n",
              "      <th>customerID</th>\n",
              "      <th>SeniorCitizen</th>\n",
              "      <th>tenure</th>\n",
              "      <th>MultipleLines</th>\n",
              "      <th>InternetService</th>\n",
              "      <th>OnlineSecurity</th>\n",
              "      <th>OnlineBackup</th>\n",
              "      <th>DeviceProtection</th>\n",
              "      <th>TechSupport</th>\n",
              "      <th>StreamingTV</th>\n",
              "      <th>...</th>\n",
              "      <th>Contract</th>\n",
              "      <th>PaymentMethod</th>\n",
              "      <th>MonthlyCharges</th>\n",
              "      <th>TotalCharges</th>\n",
              "      <th>gender_Male</th>\n",
              "      <th>Partner_Yes</th>\n",
              "      <th>Dependents_Yes</th>\n",
              "      <th>PhoneService_Yes</th>\n",
              "      <th>PaperlessBilling_Yes</th>\n",
              "      <th>Churn_Yes</th>\n",
              "    </tr>\n",
              "  </thead>\n",
              "  <tbody>\n",
              "    <tr>\n",
              "      <th>0</th>\n",
              "      <td>7590-VHVEG</td>\n",
              "      <td>0</td>\n",
              "      <td>1</td>\n",
              "      <td>0</td>\n",
              "      <td>0</td>\n",
              "      <td>0</td>\n",
              "      <td>1</td>\n",
              "      <td>0</td>\n",
              "      <td>0</td>\n",
              "      <td>0</td>\n",
              "      <td>...</td>\n",
              "      <td>0</td>\n",
              "      <td>0</td>\n",
              "      <td>29.85</td>\n",
              "      <td>29.85</td>\n",
              "      <td>0</td>\n",
              "      <td>1</td>\n",
              "      <td>0</td>\n",
              "      <td>0</td>\n",
              "      <td>1</td>\n",
              "      <td>0</td>\n",
              "    </tr>\n",
              "    <tr>\n",
              "      <th>1</th>\n",
              "      <td>5575-GNVDE</td>\n",
              "      <td>0</td>\n",
              "      <td>34</td>\n",
              "      <td>1</td>\n",
              "      <td>0</td>\n",
              "      <td>1</td>\n",
              "      <td>0</td>\n",
              "      <td>1</td>\n",
              "      <td>0</td>\n",
              "      <td>0</td>\n",
              "      <td>...</td>\n",
              "      <td>1</td>\n",
              "      <td>1</td>\n",
              "      <td>56.95</td>\n",
              "      <td>1889.5</td>\n",
              "      <td>1</td>\n",
              "      <td>0</td>\n",
              "      <td>0</td>\n",
              "      <td>1</td>\n",
              "      <td>0</td>\n",
              "      <td>0</td>\n",
              "    </tr>\n",
              "    <tr>\n",
              "      <th>2</th>\n",
              "      <td>3668-QPYBK</td>\n",
              "      <td>0</td>\n",
              "      <td>2</td>\n",
              "      <td>1</td>\n",
              "      <td>0</td>\n",
              "      <td>1</td>\n",
              "      <td>1</td>\n",
              "      <td>0</td>\n",
              "      <td>0</td>\n",
              "      <td>0</td>\n",
              "      <td>...</td>\n",
              "      <td>0</td>\n",
              "      <td>1</td>\n",
              "      <td>53.85</td>\n",
              "      <td>108.15</td>\n",
              "      <td>1</td>\n",
              "      <td>0</td>\n",
              "      <td>0</td>\n",
              "      <td>1</td>\n",
              "      <td>1</td>\n",
              "      <td>1</td>\n",
              "    </tr>\n",
              "  </tbody>\n",
              "</table>\n",
              "<p>3 rows × 21 columns</p>\n",
              "</div>\n",
              "      <button class=\"colab-df-convert\" onclick=\"convertToInteractive('df-66b124c1-c8fa-44d0-a199-e2637a487d42')\"\n",
              "              title=\"Convert this dataframe to an interactive table.\"\n",
              "              style=\"display:none;\">\n",
              "\n",
              "  <svg xmlns=\"http://www.w3.org/2000/svg\" height=\"24px\"viewBox=\"0 0 24 24\"\n",
              "       width=\"24px\">\n",
              "    <path d=\"M0 0h24v24H0V0z\" fill=\"none\"/>\n",
              "    <path d=\"M18.56 5.44l.94 2.06.94-2.06 2.06-.94-2.06-.94-.94-2.06-.94 2.06-2.06.94zm-11 1L8.5 8.5l.94-2.06 2.06-.94-2.06-.94L8.5 2.5l-.94 2.06-2.06.94zm10 10l.94 2.06.94-2.06 2.06-.94-2.06-.94-.94-2.06-.94 2.06-2.06.94z\"/><path d=\"M17.41 7.96l-1.37-1.37c-.4-.4-.92-.59-1.43-.59-.52 0-1.04.2-1.43.59L10.3 9.45l-7.72 7.72c-.78.78-.78 2.05 0 2.83L4 21.41c.39.39.9.59 1.41.59.51 0 1.02-.2 1.41-.59l7.78-7.78 2.81-2.81c.8-.78.8-2.07 0-2.86zM5.41 20L4 18.59l7.72-7.72 1.47 1.35L5.41 20z\"/>\n",
              "  </svg>\n",
              "      </button>\n",
              "\n",
              "\n",
              "\n",
              "    <div id=\"df-cdc25130-1290-44b5-8e0a-16926dfdb7cd\">\n",
              "      <button class=\"colab-df-quickchart\" onclick=\"quickchart('df-cdc25130-1290-44b5-8e0a-16926dfdb7cd')\"\n",
              "              title=\"Suggest charts.\"\n",
              "              style=\"display:none;\">\n",
              "\n",
              "<svg xmlns=\"http://www.w3.org/2000/svg\" height=\"24px\"viewBox=\"0 0 24 24\"\n",
              "     width=\"24px\">\n",
              "    <g>\n",
              "        <path d=\"M19 3H5c-1.1 0-2 .9-2 2v14c0 1.1.9 2 2 2h14c1.1 0 2-.9 2-2V5c0-1.1-.9-2-2-2zM9 17H7v-7h2v7zm4 0h-2V7h2v10zm4 0h-2v-4h2v4z\"/>\n",
              "    </g>\n",
              "</svg>\n",
              "      </button>\n",
              "    </div>\n",
              "\n",
              "<style>\n",
              "  .colab-df-quickchart {\n",
              "    background-color: #E8F0FE;\n",
              "    border: none;\n",
              "    border-radius: 50%;\n",
              "    cursor: pointer;\n",
              "    display: none;\n",
              "    fill: #1967D2;\n",
              "    height: 32px;\n",
              "    padding: 0 0 0 0;\n",
              "    width: 32px;\n",
              "  }\n",
              "\n",
              "  .colab-df-quickchart:hover {\n",
              "    background-color: #E2EBFA;\n",
              "    box-shadow: 0px 1px 2px rgba(60, 64, 67, 0.3), 0px 1px 3px 1px rgba(60, 64, 67, 0.15);\n",
              "    fill: #174EA6;\n",
              "  }\n",
              "\n",
              "  [theme=dark] .colab-df-quickchart {\n",
              "    background-color: #3B4455;\n",
              "    fill: #D2E3FC;\n",
              "  }\n",
              "\n",
              "  [theme=dark] .colab-df-quickchart:hover {\n",
              "    background-color: #434B5C;\n",
              "    box-shadow: 0px 1px 3px 1px rgba(0, 0, 0, 0.15);\n",
              "    filter: drop-shadow(0px 1px 2px rgba(0, 0, 0, 0.3));\n",
              "    fill: #FFFFFF;\n",
              "  }\n",
              "</style>\n",
              "\n",
              "    <script>\n",
              "      async function quickchart(key) {\n",
              "        const containerElement = document.querySelector('#' + key);\n",
              "        const charts = await google.colab.kernel.invokeFunction(\n",
              "            'suggestCharts', [key], {});\n",
              "      }\n",
              "    </script>\n",
              "\n",
              "      <script>\n",
              "\n",
              "function displayQuickchartButton(domScope) {\n",
              "  let quickchartButtonEl =\n",
              "    domScope.querySelector('#df-cdc25130-1290-44b5-8e0a-16926dfdb7cd button.colab-df-quickchart');\n",
              "  quickchartButtonEl.style.display =\n",
              "    google.colab.kernel.accessAllowed ? 'block' : 'none';\n",
              "}\n",
              "\n",
              "        displayQuickchartButton(document);\n",
              "      </script>\n",
              "      <style>\n",
              "    .colab-df-container {\n",
              "      display:flex;\n",
              "      flex-wrap:wrap;\n",
              "      gap: 12px;\n",
              "    }\n",
              "\n",
              "    .colab-df-convert {\n",
              "      background-color: #E8F0FE;\n",
              "      border: none;\n",
              "      border-radius: 50%;\n",
              "      cursor: pointer;\n",
              "      display: none;\n",
              "      fill: #1967D2;\n",
              "      height: 32px;\n",
              "      padding: 0 0 0 0;\n",
              "      width: 32px;\n",
              "    }\n",
              "\n",
              "    .colab-df-convert:hover {\n",
              "      background-color: #E2EBFA;\n",
              "      box-shadow: 0px 1px 2px rgba(60, 64, 67, 0.3), 0px 1px 3px 1px rgba(60, 64, 67, 0.15);\n",
              "      fill: #174EA6;\n",
              "    }\n",
              "\n",
              "    [theme=dark] .colab-df-convert {\n",
              "      background-color: #3B4455;\n",
              "      fill: #D2E3FC;\n",
              "    }\n",
              "\n",
              "    [theme=dark] .colab-df-convert:hover {\n",
              "      background-color: #434B5C;\n",
              "      box-shadow: 0px 1px 3px 1px rgba(0, 0, 0, 0.15);\n",
              "      filter: drop-shadow(0px 1px 2px rgba(0, 0, 0, 0.3));\n",
              "      fill: #FFFFFF;\n",
              "    }\n",
              "  </style>\n",
              "\n",
              "      <script>\n",
              "        const buttonEl =\n",
              "          document.querySelector('#df-66b124c1-c8fa-44d0-a199-e2637a487d42 button.colab-df-convert');\n",
              "        buttonEl.style.display =\n",
              "          google.colab.kernel.accessAllowed ? 'block' : 'none';\n",
              "\n",
              "        async function convertToInteractive(key) {\n",
              "          const element = document.querySelector('#df-66b124c1-c8fa-44d0-a199-e2637a487d42');\n",
              "          const dataTable =\n",
              "            await google.colab.kernel.invokeFunction('convertToInteractive',\n",
              "                                                     [key], {});\n",
              "          if (!dataTable) return;\n",
              "\n",
              "          const docLinkHtml = 'Like what you see? Visit the ' +\n",
              "            '<a target=\"_blank\" href=https://colab.research.google.com/notebooks/data_table.ipynb>data table notebook</a>'\n",
              "            + ' to learn more about interactive tables.';\n",
              "          element.innerHTML = '';\n",
              "          dataTable['output_type'] = 'display_data';\n",
              "          await google.colab.output.renderOutput(dataTable, element);\n",
              "          const docLink = document.createElement('div');\n",
              "          docLink.innerHTML = docLinkHtml;\n",
              "          element.appendChild(docLink);\n",
              "        }\n",
              "      </script>\n",
              "    </div>\n",
              "  </div>\n"
            ]
          },
          "metadata": {},
          "execution_count": 21
        }
      ]
    },
    {
      "cell_type": "code",
      "source": [
        "# Define the target variable ('Churn') and feature set (all other columns except 'Churn' and 'customerID')\n",
        "X = df_encoded.drop(columns=['customerID', 'Churn_Yes'])\n",
        "y = df_encoded['Churn_Yes']\n",
        "print(\"\\n\\n\\n\")\n"
      ],
      "metadata": {
        "id": "m6HE1Dvz6PDe",
        "outputId": "f0b4f0c1-086e-44a8-c94b-920728fd843f",
        "colab": {
          "base_uri": "https://localhost:8080/"
        }
      },
      "execution_count": 22,
      "outputs": [
        {
          "output_type": "stream",
          "name": "stdout",
          "text": [
            "\n",
            "\n",
            "\n",
            "\n"
          ]
        }
      ]
    },
    {
      "cell_type": "code",
      "source": [
        "print(\"Number of missing values in each column:\")\n",
        "print(df_encoded.isnull().sum())\n",
        "print(\"\\n\\n\")"
      ],
      "metadata": {
        "id": "8J2gZP3iPU1v",
        "outputId": "a380cf43-3d00-4b36-df39-d0a73238c25a",
        "colab": {
          "base_uri": "https://localhost:8080/"
        }
      },
      "execution_count": 23,
      "outputs": [
        {
          "output_type": "stream",
          "name": "stdout",
          "text": [
            "Number of missing values in each column:\n",
            "customerID              0\n",
            "SeniorCitizen           0\n",
            "tenure                  0\n",
            "MultipleLines           0\n",
            "InternetService         0\n",
            "OnlineSecurity          0\n",
            "OnlineBackup            0\n",
            "DeviceProtection        0\n",
            "TechSupport             0\n",
            "StreamingTV             0\n",
            "StreamingMovies         0\n",
            "Contract                0\n",
            "PaymentMethod           0\n",
            "MonthlyCharges          0\n",
            "TotalCharges            0\n",
            "gender_Male             0\n",
            "Partner_Yes             0\n",
            "Dependents_Yes          0\n",
            "PhoneService_Yes        0\n",
            "PaperlessBilling_Yes    0\n",
            "Churn_Yes               0\n",
            "dtype: int64\n",
            "\n",
            "\n",
            "\n"
          ]
        }
      ]
    },
    {
      "cell_type": "markdown",
      "source": [
        "# Normalization"
      ],
      "metadata": {
        "id": "4AQSeeApBphf"
      }
    },
    {
      "cell_type": "code",
      "source": [],
      "metadata": {
        "id": "3NYdMDA6P_De"
      },
      "execution_count": 23,
      "outputs": []
    },
    {
      "cell_type": "code",
      "source": [
        "# Replace non-numeric values in 'TotalCharges' with NaN\n",
        "X['TotalCharges'] = pd.to_numeric(X['TotalCharges'], errors='coerce')\n",
        "\n",
        "# Impute missing values in 'TotalCharges' with the mean\n",
        "X['TotalCharges'].fillna(X['TotalCharges'].mean(), inplace=True)\n",
        "\n",
        "# Now, proceed with Min-Max scaling\n",
        "scaler = MinMaxScaler()\n",
        "X[['MonthlyCharges', 'TotalCharges']] = scaler.fit_transform(X[['MonthlyCharges', 'TotalCharges']])\n"
      ],
      "metadata": {
        "id": "GrtQrdMu6PAr"
      },
      "execution_count": 24,
      "outputs": []
    },
    {
      "cell_type": "code",
      "source": [
        "# # For example, let's create a pairplot to visualize relationships between numerical features\n",
        "# import seaborn as sns\n",
        "# # For visualization, let's create a new DataFrame with 'Churn' column as numeric representation\n",
        "# df_visualization = df_encoded.copy()\n",
        "# df_visualization['Churn_Yes'] = y.map({0: 'No', 1: 'Yes'})\n",
        "\n",
        "# # Define the numerical features for the pairplot\n",
        "# numerical_features = ['tenure', 'MonthlyCharges', 'TotalCharges']\n",
        "\n",
        "# # Create a pairplot to visualize relationships between numerical features\n",
        "# sns.pairplot(df_visualization, vars=numerical_features, hue='Churn_Yes', diag_kind='auto')\n",
        "# plt.show()\n",
        "\n",
        "\n",
        "\n",
        "\n"
      ],
      "metadata": {
        "id": "QG10Td9z6O9u"
      },
      "execution_count": 25,
      "outputs": []
    },
    {
      "cell_type": "code",
      "source": [
        "from sklearn.model_selection import train_test_split\n",
        "from sklearn.linear_model import LogisticRegression\n",
        "from sklearn.tree import DecisionTreeClassifier\n",
        "from sklearn.ensemble import RandomForestClassifier\n",
        "from sklearn.svm import SVC\n",
        "from sklearn.neighbors import KNeighborsClassifier\n",
        "from sklearn.naive_bayes import GaussianNB\n",
        "from sklearn.ensemble import AdaBoostClassifier\n",
        "from sklearn.ensemble import GradientBoostingClassifier\n",
        "from xgboost import XGBClassifier\n",
        "from lightgbm import LGBMClassifier\n",
        "from sklearn.metrics import accuracy_score\n",
        "\n",
        "# Split the data into training and testing sets\n",
        "X_train, X_test, y_train, y_test = train_test_split(X, y, test_size=0.2, random_state=42)\n",
        "\n",
        "# List of classifiers to compare\n",
        "classifiers = [\n",
        "    LogisticRegression(),\n",
        "    DecisionTreeClassifier(),\n",
        "    RandomForestClassifier(),\n",
        "    SVC(),\n",
        "    KNeighborsClassifier(),\n",
        "    GaussianNB(),\n",
        "    AdaBoostClassifier(),\n",
        "    GradientBoostingClassifier(),\n",
        "    XGBClassifier(),\n",
        "    LGBMClassifier()\n",
        "]\n",
        "\n",
        "# Dictionary to store model accuracies\n",
        "model_accuracies = {}\n",
        "\n",
        "# Train, predict, and evaluate each classifier\n",
        "for classifier in classifiers:\n",
        "    model_name = classifier.__class__.__name__\n",
        "    classifier.fit(X_train, y_train)\n",
        "    y_pred = classifier.predict(X_test)\n",
        "    accuracy = accuracy_score(y_test, y_pred)\n",
        "    model_accuracies[model_name] = accuracy\n",
        "\n",
        "# Display the accuracy of each model\n",
        "for model_name, accuracy in model_accuracies.items():\n",
        "    print(f\"{model_name} accuracy: {accuracy:.4f}\")\n"
      ],
      "metadata": {
        "id": "9y_QhTa-6O4a",
        "outputId": "23dc8000-f738-45b8-b3d5-0275cad1521e",
        "colab": {
          "base_uri": "https://localhost:8080/"
        }
      },
      "execution_count": 26,
      "outputs": [
        {
          "output_type": "stream",
          "name": "stderr",
          "text": [
            "/usr/local/lib/python3.10/dist-packages/sklearn/linear_model/_logistic.py:458: ConvergenceWarning: lbfgs failed to converge (status=1):\n",
            "STOP: TOTAL NO. of ITERATIONS REACHED LIMIT.\n",
            "\n",
            "Increase the number of iterations (max_iter) or scale the data as shown in:\n",
            "    https://scikit-learn.org/stable/modules/preprocessing.html\n",
            "Please also refer to the documentation for alternative solver options:\n",
            "    https://scikit-learn.org/stable/modules/linear_model.html#logistic-regression\n",
            "  n_iter_i = _check_optimize_result(\n"
          ]
        },
        {
          "output_type": "stream",
          "name": "stdout",
          "text": [
            "LogisticRegression accuracy: 0.8176\n",
            "DecisionTreeClassifier accuracy: 0.7317\n",
            "RandomForestClassifier accuracy: 0.7984\n",
            "SVC accuracy: 0.7949\n",
            "KNeighborsClassifier accuracy: 0.7551\n",
            "GaussianNB accuracy: 0.7175\n",
            "AdaBoostClassifier accuracy: 0.8176\n",
            "GradientBoostingClassifier accuracy: 0.8119\n",
            "XGBClassifier accuracy: 0.7984\n",
            "LGBMClassifier accuracy: 0.8041\n"
          ]
        }
      ]
    },
    {
      "cell_type": "code",
      "source": [],
      "metadata": {
        "id": "MmpbFEuZ6Ow7"
      },
      "execution_count": 26,
      "outputs": []
    },
    {
      "cell_type": "code",
      "source": [],
      "metadata": {
        "id": "jSf4PDIi6OuG"
      },
      "execution_count": 26,
      "outputs": []
    },
    {
      "cell_type": "code",
      "source": [],
      "metadata": {
        "id": "_Vn805pY6Orm"
      },
      "execution_count": 26,
      "outputs": []
    },
    {
      "cell_type": "code",
      "source": [],
      "metadata": {
        "id": "QGPTMrrj6OpL"
      },
      "execution_count": 26,
      "outputs": []
    },
    {
      "cell_type": "code",
      "source": [],
      "metadata": {
        "id": "mYV_DgE66Of4"
      },
      "execution_count": 26,
      "outputs": []
    },
    {
      "cell_type": "code",
      "source": [],
      "metadata": {
        "id": "Kx5tEVju6ONY"
      },
      "execution_count": 26,
      "outputs": []
    },
    {
      "cell_type": "code",
      "source": [],
      "metadata": {
        "id": "MNTHgi946OKP"
      },
      "execution_count": 26,
      "outputs": []
    },
    {
      "cell_type": "code",
      "source": [],
      "metadata": {
        "id": "JfTzG0bg6OHK"
      },
      "execution_count": 26,
      "outputs": []
    },
    {
      "cell_type": "code",
      "source": [],
      "metadata": {
        "id": "X4bUw_3e6OD6"
      },
      "execution_count": 26,
      "outputs": []
    },
    {
      "cell_type": "code",
      "source": [],
      "metadata": {
        "id": "17olcFbH6OA8"
      },
      "execution_count": 26,
      "outputs": []
    }
  ]
}